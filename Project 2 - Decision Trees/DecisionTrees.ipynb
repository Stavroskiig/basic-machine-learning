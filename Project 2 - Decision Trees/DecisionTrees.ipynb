{
 "cells": [
  {
   "cell_type": "markdown",
   "metadata": {
    "id": "eDrcOVDGnyDI"
   },
   "source": [
    "## About iPython Notebooks ##\n",
    "\n",
    "iPython Notebooks are interactive coding environments embedded in a webpage. You will be using iPython notebooks in this class. Make sure you fill in any place that says `# BEGIN SOLUTION #END CODE HERE` searching for the missing parts (usually denoted with `...`). After writing your code, you can run the cell by either pressing \"SHIFT\"+\"ENTER\" or by clicking on \"Run\" (denoted by a play symbol). Before you turn this problem in, make sure everything runs as expected. First, **restart the kernel** (in the menubar, select Kernel$\\rightarrow$Restart) and then **run all cells** (in the menubar, select Cell$\\rightarrow$Run All). \n",
    "\n",
    " **What you need to remember:**\n",
    "\n",
    "- Run your cells using SHIFT+ENTER (or \"Run cell\")\n",
    "- Write code in the designated areas using Python 3 only\n",
    "- Do not modify the code outside of the designated areas\n",
    "- In some cases you will also need to explain the results. There will also be designated areas for that. \n",
    "\n",
    "Fill in your **NAME** and **AEM** below:"
   ]
  },
  {
   "cell_type": "code",
   "execution_count": 1,
   "metadata": {
    "id": "JEJWwHpJnyDK"
   },
   "outputs": [],
   "source": [
    "NAME = \"\"\n",
    "AEM = \"\""
   ]
  },
  {
   "cell_type": "markdown",
   "metadata": {
    "id": "QRgauGbInyDM"
   },
   "source": [
    "---"
   ]
  },
  {
   "cell_type": "markdown",
   "metadata": {
    "deletable": false,
    "editable": false,
    "id": "_FF68cfznyDO",
    "nbgrader": {
     "cell_type": "markdown",
     "checksum": "ce63642cafb413e7903d83d2f2cd3637",
     "grade": false,
     "grade_id": "cell-f62db6dce1ed3f2e",
     "locked": true,
     "schema_version": 3,
     "solution": false,
     "task": false
    }
   },
   "source": [
    "# Assignment 2 - Decision Trees #"
   ]
  },
  {
   "cell_type": "markdown",
   "metadata": {
    "deletable": false,
    "editable": false,
    "id": "zq29ctnanyDO",
    "nbgrader": {
     "cell_type": "markdown",
     "checksum": "29d61ce286fdb8fd61c7f8e89a9e1339",
     "grade": false,
     "grade_id": "cell-dce2e73cee9a5017",
     "locked": true,
     "schema_version": 3,
     "solution": false,
     "task": false
    }
   },
   "source": [
    "Welcome to your second assignment. This exercise gives you an introduction to [scikit-learn](https://scikit-learn.org/stable/). A simple but efficient machine learning library in Python. It also gives you a wide understanding on how decision trees work. "
   ]
  },
  {
   "cell_type": "markdown",
   "metadata": {
    "deletable": false,
    "editable": false,
    "id": "mb4Wf4IdnyDP",
    "nbgrader": {
     "cell_type": "markdown",
     "checksum": "50a108d2f1e1a1ee2fde80743c0543fe",
     "grade": false,
     "grade_id": "cell-83ca2b0456fb85db",
     "locked": true,
     "schema_version": 3,
     "solution": false,
     "task": false
    }
   },
   "source": [
    "After this assignment you will:\n",
    "- Be able to use the scikit-learn library and train your own model from scratch.\n",
    "- Be able to train and understand decision trees."
   ]
  },
  {
   "cell_type": "code",
   "execution_count": 2,
   "metadata": {
    "deletable": false,
    "editable": false,
    "id": "sLqpxgvbnyDQ",
    "nbgrader": {
     "cell_type": "code",
     "checksum": "396c39a0797964c378ebb90cf18a29de",
     "grade": false,
     "grade_id": "cell-2cef6d48eea484d8",
     "locked": true,
     "schema_version": 3,
     "solution": false,
     "task": false
    }
   },
   "outputs": [],
   "source": [
    "# Always run this cell\n",
    "import numpy as np\n",
    "import pandas as pd\n",
    "from sklearn.datasets import load_breast_cancer\n",
    "from sklearn.model_selection import train_test_split\n",
    "from sklearn.tree import DecisionTreeClassifier\n",
    "from sklearn.metrics import f1_score, accuracy_score\n",
    "from sklearn.compose import ColumnTransformer\n",
    "from sklearn.pipeline import Pipeline\n",
    "from sklearn.impute import SimpleImputer\n",
    "from sklearn.preprocessing import OneHotEncoder, OrdinalEncoder\n",
    "\n",
    "# USE THIS RANDOM VARIABLE TO PRODUCE THE SAME RESULTS\n",
    "RANDOM_VARIABLE = 42"
   ]
  },
  {
   "cell_type": "markdown",
   "metadata": {
    "id": "eLqRTrLTnyDR"
   },
   "source": [
    "## 1. Scikit-Learn and Decision Trees ##\n",
    "\n",
    "You are going to use the scikit-learn library to train a model for detecting breast cancer using the [Breast cancer wisconsin (diagnostic) dataset](https://scikit-learn.org/stable/modules/generated/sklearn.datasets.load_breast_cancer.html#sklearn.datasets.load_breast_cancer) by training a model using [decision trees](https://scikit-learn.org/stable/modules/tree.html)."
   ]
  },
  {
   "cell_type": "markdown",
   "metadata": {
    "id": "b7d5K-BdnyDS"
   },
   "source": [
    "**1.1** Load the breast cancer dataset using the scikit learn library. From variable *cdata*, you should export the *X* and *y*, from the *data* and *target* variables of the variable *cdata*, respectively, and the feature names and target names from the variables *feature_names* and *target_names*, respectively. Convert the latter two (feature names and target names) into lists. Thus, X and y should be numpy arrays, and feature_names and target_names should be lists. Then split the dataset into train and test set using the appropriate function. Use 33% of the dataset as the test set. Define as X the attributes and as y the target values. Do not forget to set the random_state parameter as the *RANDOM_VARIABLE* defined above. Use this variable for all the random_state parameters in this assignment."
   ]
  },
  {
   "cell_type": "code",
   "execution_count": 3,
   "metadata": {
    "deletable": false,
    "id": "NfF54h6anyDS",
    "nbgrader": {
     "cell_type": "code",
     "checksum": "4b873328ea05f6ef9c08827168c7b835",
     "grade": false,
     "grade_id": "cell-1f0c2f3918333cf6",
     "locked": false,
     "schema_version": 3,
     "solution": true,
     "task": false
    }
   },
   "outputs": [],
   "source": [
    "cdata = load_breast_cancer(as_frame=True)\n",
    "\n",
    "# BEGIN SOLUTION\n",
    "X = cdata.data.values\n",
    "y = cdata.target.values\n",
    "feature_names = list(cdata.data.columns)\n",
    "target_names = list(cdata.target_names)\n",
    "X_train, X_test, y_train, y_test = train_test_split(X, y, test_size=0.33, random_state=RANDOM_VARIABLE)\n",
    "\n",
    "# END CODE HERE"
   ]
  },
  {
   "cell_type": "code",
   "execution_count": 4,
   "metadata": {
    "colab": {
     "base_uri": "https://localhost:8080/"
    },
    "deletable": false,
    "editable": false,
    "id": "FiOtzHkpnyDT",
    "nbgrader": {
     "cell_type": "code",
     "checksum": "3603b2ba8916ffdad9e9c53f31546b4c",
     "grade": true,
     "grade_id": "cell-3f43c895ceaf57a9",
     "locked": true,
     "points": 2,
     "schema_version": 3,
     "solution": false,
     "task": false
    },
    "outputId": "e53f644c-7744-45f4-8408-db7bb7cf9877"
   },
   "outputs": [
    {
     "output_type": "stream",
     "name": "stdout",
     "text": [
      "Type of X: <class 'numpy.ndarray'>\n",
      "Type of y: <class 'numpy.ndarray'>\n",
      "Type of feature_names: <class 'list'>\n",
      "Type of target_names: <class 'list'>\n",
      "Size of train set: 381\n",
      "Size of test set: 188\n",
      "Unique classes: 2\n"
     ]
    }
   ],
   "source": [
    "print(\"Type of X: {}\".format(type(X)))\n",
    "print(\"Type of y: {}\".format(type(y)))\n",
    "print(\"Type of feature_names: {}\".format(type(feature_names)))\n",
    "print(\"Type of target_names: {}\".format(type(target_names)))\n",
    "print(\"Size of train set: {}\".format(len(y_train)))\n",
    "print(\"Size of test set: {}\".format(len(y_test)))\n",
    "print(\"Unique classes: {}\".format(len(set(y_test))))"
   ]
  },
  {
   "cell_type": "markdown",
   "metadata": {
    "deletable": false,
    "editable": false,
    "id": "JuW_lKVFnyDU",
    "nbgrader": {
     "cell_type": "markdown",
     "checksum": "62285a7bd3ab59718b89f7e09de0fea4",
     "grade": false,
     "grade_id": "cell-1ce621a108e76a15",
     "locked": true,
     "schema_version": 3,
     "solution": false,
     "task": false
    }
   },
   "source": [
    "**Expected output**:  \n",
    "\n",
    "```\n",
    "Type of X: <class 'numpy.ndarray'>\n",
    "Type of y: <class 'numpy.ndarray'>\n",
    "Type of feature_names: <class 'list'>\n",
    "Type of target_names: <class 'list'>\n",
    "Size of train set: 381\n",
    "Size of test set: 188\n",
    "Unique classes: 2\n",
    "```\n",
    "\n"
   ]
  },
  {
   "cell_type": "markdown",
   "metadata": {
    "id": "GUB8sl0NnyDV"
   },
   "source": [
    "**1.2** Train two DecisionTree classifiers and report the F1 score. Use the information gain for the one classifier and the Gini impurity for the other, set the *max_depth* to 3, and do not forget to use the *RANDOM_VARIABLE*, as it is crucial for the following part."
   ]
  },
  {
   "cell_type": "code",
   "execution_count": 5,
   "metadata": {
    "deletable": false,
    "id": "nPQFaOhLnyDW",
    "nbgrader": {
     "cell_type": "code",
     "checksum": "17197b62614427a979fcbab7ed2734dd",
     "grade": false,
     "grade_id": "cell-a7fa1d29509eb2a1",
     "locked": false,
     "schema_version": 3,
     "solution": true,
     "task": false
    }
   },
   "outputs": [],
   "source": [
    "# BEGIN SOLUTION\n",
    "classifier_gini = DecisionTreeClassifier(criterion='gini', max_depth=3, random_state=RANDOM_VARIABLE)\n",
    "classifier_igain = DecisionTreeClassifier(criterion='entropy', max_depth=3, random_state=RANDOM_VARIABLE)\n",
    "\n",
    "# Train the model\n",
    "classifier_gini = classifier_gini.fit(X_train, y_train)\n",
    "classifier_igain = classifier_igain.fit(X_train, y_train)\n",
    "\n",
    "# Perform predictions\n",
    "prediction_gini = classifier_gini.predict(X_test)\n",
    "prediction_igain = classifier_igain.predict(X_test)\n",
    "\n",
    "# Evaluate using f1_score\n",
    "f_measure_gini = f1_score(y_test, prediction_gini)\n",
    "f_measure_igain = f1_score(y_test, prediction_igain)\n",
    "\n",
    "# END CODE HERE"
   ]
  },
  {
   "cell_type": "code",
   "execution_count": 6,
   "metadata": {
    "colab": {
     "base_uri": "https://localhost:8080/"
    },
    "deletable": false,
    "editable": false,
    "id": "qToIpGtnnyDX",
    "nbgrader": {
     "cell_type": "code",
     "checksum": "6d9aab4355c27c346f7e6548f233e758",
     "grade": true,
     "grade_id": "cell-09657a82bf4028c4",
     "locked": true,
     "points": 3,
     "schema_version": 3,
     "solution": false,
     "task": false
    },
    "outputId": "e4fc2844-91a2-4eaa-8874-a3807d25c79b"
   },
   "outputs": [
    {
     "output_type": "stream",
     "name": "stdout",
     "text": [
      "F-Measure Gini: 0.9663865546218487\n",
      "F-Measure Information Gain: 0.979591836734694\n"
     ]
    }
   ],
   "source": [
    "print(\"F-Measure Gini: {}\".format(f_measure_gini))\n",
    "print(\"F-Measure Information Gain: {}\".format(f_measure_igain))"
   ]
  },
  {
   "cell_type": "markdown",
   "metadata": {
    "deletable": false,
    "editable": false,
    "id": "hn9nblQ5nyDY",
    "nbgrader": {
     "cell_type": "markdown",
     "checksum": "f3facbbef0dd8f25ad12bfec7c174818",
     "grade": false,
     "grade_id": "cell-b0d8630f3b764cf3",
     "locked": true,
     "schema_version": 3,
     "solution": false,
     "task": false
    }
   },
   "source": [
    "**Expected output**:\n",
    "\n",
    "```\n",
    "F-Measure Gini: 0.9663865546218487\n",
    "F-Measure Information Gain: 0.979591836734694\n",
    "```"
   ]
  },
  {
   "cell_type": "markdown",
   "metadata": {
    "id": "tXYJRWnSpxOB"
   },
   "source": [
    "**1.3** In this part, you are going to explore one of the trained decision trees visually. We will use the *classifier_igain* and the function *export_graphviz* to plot the decision tree. You should fill in the missing parts of the functions parameters, which correspond to the decision tree model, the feature names and the target names.\n"
   ]
  },
  {
   "cell_type": "code",
   "execution_count": 7,
   "metadata": {
    "colab": {
     "base_uri": "https://localhost:8080/",
     "height": 514
    },
    "id": "izqLl_7Hpwm_",
    "outputId": "e5f1c8c1-9b92-4cd4-e754-21ba5174638b"
   },
   "outputs": [
    {
     "output_type": "execute_result",
     "data": {
      "image/png": "[encoded data removed]",
      "text/plain": [
       "<IPython.core.display.Image object>"
      ]
     },
     "metadata": {},
     "execution_count": 7
    }
   ],
   "source": [
    "# Let's see how our tree looks\n",
    "from sklearn.tree import export_graphviz\n",
    "from IPython.display import Image\n",
    "from subprocess import call\n",
    "\n",
    "# BEGIN SOLUTION\n",
    "export_graphviz(\n",
    "        classifier_igain, # The decision tree to be exported to GraphViz\n",
    "        out_file=\"dtree.dot\", # Name of the output file\n",
    "        feature_names=feature_names, # Names of each of the features\n",
    "        rounded=True, # Draw node boxes with rounded corners\n",
    "        filled=True # Paint nodes to indicate majority class for classification\n",
    "    )\n",
    "# END CODE HERE\n",
    "\n",
    "call(['dot', '-Tpng', 'dtree.dot', '-o', 'dtree.png', '-Gdpi=96'])\n",
    "Image(filename = 'dtree.png')"
   ]
  },
  {
   "cell_type": "markdown",
   "metadata": {
    "id": "FLlmqVVf5AwM"
   },
   "source": [
    "**1.4** Now, we will examine two random instances (7th and 136th). Thus, we are presenting the decision tree's predictions for these instances, and the ground truth values. Moreover, for each instance, we print the feature values. However, as we can see from the plot above, only 6 features out of the 30 are being used by the tree. Thus, in order to print less information, we will use the *feature_importances_* variable of our tree to check which features has 0 importance to skip them."
   ]
  },
  {
   "cell_type": "code",
   "execution_count": 8,
   "metadata": {
    "colab": {
     "base_uri": "https://localhost:8080/"
    },
    "id": "Z0qLU7KLsMfx",
    "outputId": "31fce6e1-3480-4d42-8c95-e22fe943ed49"
   },
   "outputs": [
    {
     "output_type": "stream",
     "name": "stdout",
     "text": [
      "7th instance a was classified as: malignant while the ground truth was: malignant\n",
      "\tmean texture: 15.05\n",
      "\tmean concave points: 0.07953\n",
      "\tarea error: 61.1\n",
      "\tworst radius: 20.01\n",
      "\tworst texture: 19.52\n",
      "\tworst perimeter: 134.9\n",
      "\n",
      "\n",
      "136th instance a was classified as: malignant while the ground truth was: benign\n",
      "\tmean texture: 18.89\n",
      "\tmean concave points: 0.05381\n",
      "\tarea error: 19.29\n",
      "\tworst radius: 14.8\n",
      "\tworst texture: 27.2\n",
      "\tworst perimeter: 97.33\n"
     ]
    }
   ],
   "source": [
    "instance_a = 7\n",
    "instance_b = 136\n",
    "for instance in [instance_a, instance_b]:\n",
    "  print(str(instance)+ 'th instance a was classified as: ' +target_names[prediction_igain[instance]] +' while the ground truth was: ' + target_names[y_test[instance]])\n",
    "  # BEGIN SOLUTION\n",
    "  for idf, feature_name in enumerate(feature_names):\n",
    "    if classifier_igain.feature_importances_[idf] != 0:\n",
    "      print('\\t'+feature_name+\": \"+str(X_test[instance][idf]))\n",
    "  # END CODE HERE\n",
    "  print('\\n')"
   ]
  },
  {
   "cell_type": "markdown",
   "metadata": {
    "id": "aSPh8Z1Ilmq4"
   },
   "source": [
    "**Expected output**:\n",
    "\n",
    "```\n",
    "7th instance a was classified as: malignant while the ground truth was: malignant\n",
    "\tmean texture: 15.05\n",
    "\tmean concave points: 0.07953\n",
    "\tarea error: 61.1\n",
    "\tworst radius: 20.01\n",
    "\tworst texture: 19.52\n",
    "\tworst perimeter: 134.9\n",
    "\n",
    "\n",
    "136th instance a was classified as: malignant while the ground truth was: benign\n",
    "\tmean texture: 18.89\n",
    "\tmean concave points: 0.05381\n",
    "\tarea error: 19.29\n",
    "\tworst radius: 14.8\n",
    "\tworst texture: 27.2\n",
    "\tworst perimeter: 97.33\n",
    "```\n",
    "\n"
   ]
  },
  {
   "cell_type": "markdown",
   "metadata": {
    "id": "JHE-wOx77DBq"
   },
   "source": [
    "**1.6** Based on the aforementioned information, and the plotted decision tree, identify one feature value that if changed in each instance, the predicted class will change as well. Specifically, you should find a feature value change that will be small. Answer in the following cell, either with code, or/and writing a small paragraph explaining the feature, the change and why the decision will change."
   ]
  },
  {
   "cell_type": "code",
   "execution_count": 9,
   "metadata": {
    "id": "MvrW8zQStBTm",
    "colab": {
     "base_uri": "https://localhost:8080/"
    },
    "outputId": "d2d4c965-2c4c-4e82-e357-853aea4fb758"
   },
   "outputs": [
    {
     "output_type": "stream",
     "name": "stdout",
     "text": [
      "Important features:  ['mean texture', 'mean concave points', 'area error', 'worst radius', 'worst texture', 'worst perimeter']\n",
      "Selected feature: mean texture\n",
      "Current value for instance 7 : 15.05\n",
      "Current value for instance 136 : 18.89\n"
     ]
    }
   ],
   "source": [
    "# BEGIN SOLUTION\n",
    "\n",
    "# Identify the most important features\n",
    "important_features = [feature_names[i] for i, importance in enumerate(classifier_igain.feature_importances_) if importance > 0]\n",
    "print(\"Important features: \", important_features)\n",
    "selected_feature = important_features[0] # Select one\n",
    "print(\"Selected feature:\", selected_feature)\n",
    "current_value_a = X_test[instance_a][feature_names.index(selected_feature)] # current feature value for the instances\n",
    "current_value_b = X_test[instance_b][feature_names.index(selected_feature)] # current feature value for the instances\n",
    "print(\"Current value for instance\", instance_a, \":\", current_value_a)\n",
    "print(\"Current value for instance\", instance_b, \":\", current_value_b)\n",
    "\n",
    "# END CODE HERE"
   ]
  },
  {
   "cell_type": "markdown",
   "metadata": {
    "id": "nL7ZSLuelyu7"
   },
   "source": [
    "or/and"
   ]
  },
  {
   "cell_type": "markdown",
   "metadata": {
    "id": "h2speZex827U"
   },
   "source": [
    "YOUR ANSWER HERE\n"
   ]
  },
  {
   "cell_type": "markdown",
   "source": [
    "Studying the decision tree and feature importance analysis and wanting to draw some conclusions about the feature and the reason for the decision change, we define the selected feature as the mean texture.\n",
    "Regarding the 7th instance, the current texture value is 15.05. Now, to study the possible change in the predicted class, we introduce an assumed increase in the current price and it becomes 16.2. This small change will result in another class. More specifically, while our case would initially have been predicted as benign, it will now be predicted as malignant, which highlights the importance of the change in this characteristic."
   ],
   "metadata": {
    "id": "XySNGVcOQ136"
   }
  },
  {
   "cell_type": "markdown",
   "metadata": {
    "deletable": false,
    "editable": false,
    "id": "31Iyi9SJnyDZ",
    "nbgrader": {
     "cell_type": "markdown",
     "checksum": "f2532168d16e8c9bffba3d7d8e1efce7",
     "grade": false,
     "grade_id": "cell-591ba122016b6db5",
     "locked": true,
     "schema_version": 3,
     "solution": false,
     "task": false
    }
   },
   "source": [
    "**1.7** Train multiple classifiers by modifying the max_depth within the range from 1 to 8 and save the f1 scores to the corresponding list of the *fscores* dictionary (one list for training set and one for test set). Before appending the scores to the corresponding list, multiply them by 100, and round the values to 2 decimals."
   ]
  },
  {
   "cell_type": "code",
   "execution_count": 10,
   "metadata": {
    "deletable": false,
    "id": "U7gSfRu_nyDa",
    "nbgrader": {
     "cell_type": "code",
     "checksum": "54cf257e90a3cb5877db81297bedd45c",
     "grade": false,
     "grade_id": "cell-31c58b6161a3907d",
     "locked": false,
     "schema_version": 3,
     "solution": true,
     "task": false
    }
   },
   "outputs": [],
   "source": [
    "# BEGIN SOLUTION\n",
    "depth = range(1, 8)\n",
    "fscores = {}\n",
    "fscores['train'] = []\n",
    "fscores['test'] = []\n",
    "\n",
    "for d in depth:\n",
    "    # Define and train the classifier\n",
    "    classifier = DecisionTreeClassifier(criterion='gini', max_depth=d, random_state=RANDOM_VARIABLE)\n",
    "    classifier = classifier.fit(X_train, y_train)\n",
    "\n",
    "    # Make predictions on training and test sets\n",
    "    train_predictions = classifier.predict(X_train)\n",
    "    test_predictions = classifier.predict(X_test)\n",
    "\n",
    "    # Compute F1 scores and append to the corresponding lists\n",
    "    f1_train = round(f1_score(y_train, train_predictions) * 100, 2)\n",
    "    f1_test = round(f1_score(y_test, test_predictions) * 100, 2)\n",
    "    fscores['train'].append(f1_train)\n",
    "    fscores['test'].append(f1_test)\n",
    "# END CODE HERE"
   ]
  },
  {
   "cell_type": "code",
   "execution_count": 11,
   "metadata": {
    "colab": {
     "base_uri": "https://localhost:8080/"
    },
    "deletable": false,
    "editable": false,
    "id": "2395Por-nyDa",
    "nbgrader": {
     "cell_type": "code",
     "checksum": "70a249937f2f690c6ce855debaed204c",
     "grade": true,
     "grade_id": "cell-0c300109423f53b9",
     "locked": true,
     "points": 5,
     "schema_version": 3,
     "solution": false,
     "task": false
    },
    "outputId": "686b53c9-923d-4316-8ce7-802ddbfad5a5"
   },
   "outputs": [
    {
     "output_type": "stream",
     "name": "stdout",
     "text": [
      "Fscores Train: [94.24, 95.46, 97.65, 99.15, 99.37, 99.58, 100.0]\n",
      "Fscores Test:  [91.14, 93.97, 96.64, 94.12, 95.4, 95.04, 93.72]\n"
     ]
    }
   ],
   "source": [
    "print(\"Fscores Train: {}\".format(fscores['train']))\n",
    "print(\"Fscores Test:  {}\".format(fscores['test']))"
   ]
  },
  {
   "cell_type": "markdown",
   "metadata": {
    "deletable": false,
    "editable": false,
    "id": "f37yzYcbnyDb",
    "nbgrader": {
     "cell_type": "markdown",
     "checksum": "3db472d2b9db7a42cc012cd96fdeb499",
     "grade": false,
     "grade_id": "cell-75789627f20d2c94",
     "locked": true,
     "schema_version": 3,
     "solution": false,
     "task": false
    }
   },
   "source": [
    "**Expected output**:  \n",
    "```\n",
    "Fscores Train: [94.24, 95.46, 97.65, 99.15, 99.37, 99.58, 100.0]\n",
    "Fscores Test:  [91.14, 93.97, 96.64, 94.12, 95.4, 95.04, 93.72]\n",
    "```"
   ]
  },
  {
   "cell_type": "markdown",
   "metadata": {
    "deletable": false,
    "editable": false,
    "id": "4stz0V9knyDd",
    "nbgrader": {
     "cell_type": "markdown",
     "checksum": "bca7d4c160c767d27a09b4620d27d56e",
     "grade": false,
     "grade_id": "cell-5906e6d5efa70282",
     "locked": true,
     "schema_version": 3,
     "solution": false,
     "task": false
    }
   },
   "source": [
    "**1.8** Compare the results from the train set with the results from the test set. What do you notice? How are you going to choose the max_depth of your model?"
   ]
  },
  {
   "cell_type": "markdown",
   "metadata": {
    "deletable": false,
    "id": "kwtDaX3JnyDe",
    "nbgrader": {
     "cell_type": "markdown",
     "checksum": "424ac10e4e22ca9e32207deee3bf0f57",
     "grade": true,
     "grade_id": "cell-c9c6ea0e40d98b83",
     "locked": false,
     "points": 5,
     "schema_version": 3,
     "solution": true,
     "task": false
    }
   },
   "source": [
    "YOUR ANSWER HERE"
   ]
  },
  {
   "cell_type": "markdown",
   "metadata": {
    "deletable": false,
    "editable": false,
    "id": "PIw1fVFenyDe",
    "nbgrader": {
     "cell_type": "markdown",
     "checksum": "217666fcc2e383d6f2c1904c9d6a71be",
     "grade": false,
     "grade_id": "cell-9ef42e6c90ea2ffe",
     "locked": true,
     "schema_version": 3,
     "solution": false,
     "task": false
    }
   },
   "source": [
    "## 2.0 Pipelines ##\n",
    "\n",
    "In this part of the exercise you are going to build a pipeline from scratch for a classification problem. Load the **income.csv** file and train a DecisionTree model that will predict the *income* variable. This dataset is a modification of the original Adult Income dataset found [here](http://archive.ics.uci.edu/ml/datasets/Adult). Report the f1-score and accuracy score of the test set found in **income_test.csv**. Your pipeline should be able to handle missing values and categorical features (scikit-learn's decision trees do not handle categorical values). You can preprocess the dataset as you like in order to achieve higher scores.  \n",
    "\n",
    "**2.1** Load the train and test set variables from the files **income.csv** and **income_test.csv**"
   ]
  },
  {
   "cell_type": "code",
   "execution_count": 38,
   "metadata": {
    "id": "7jJW-avitO9E",
    "colab": {
     "base_uri": "https://localhost:8080/"
    },
    "outputId": "090c965b-d09b-4fff-dce2-703e4cc2d5db"
   },
   "outputs": [
    {
     "output_type": "stream",
     "name": "stdout",
     "text": [
      "<class 'pandas.core.frame.DataFrame'>\n",
      "RangeIndex: 32561 entries, 0 to 32560\n",
      "Data columns (total 14 columns):\n",
      " #   Column          Non-Null Count  Dtype \n",
      "---  ------          --------------  ----- \n",
      " 0   age             32561 non-null  int64 \n",
      " 1   workclass       30725 non-null  object\n",
      " 2   fnlwgt          32561 non-null  int64 \n",
      " 3   education       32561 non-null  object\n",
      " 4   education_num   32561 non-null  int64 \n",
      " 5   marital-status  32561 non-null  object\n",
      " 6   occupation      30718 non-null  object\n",
      " 7   relationship    32561 non-null  object\n",
      " 8   race            32561 non-null  object\n",
      " 9   sex             32561 non-null  object\n",
      " 10  capital-gain    32561 non-null  int64 \n",
      " 11  capital-loss    32561 non-null  int64 \n",
      " 12  hours-per-week  32561 non-null  int64 \n",
      " 13  income          32561 non-null  object\n",
      "dtypes: int64(6), object(8)\n",
      "memory usage: 3.5+ MB\n",
      "<class 'pandas.core.frame.DataFrame'>\n",
      "RangeIndex: 15315 entries, 0 to 15314\n",
      "Data columns (total 14 columns):\n",
      " #   Column          Non-Null Count  Dtype \n",
      "---  ------          --------------  ----- \n",
      " 0   age             15315 non-null  int64 \n",
      " 1   workclass       15315 non-null  object\n",
      " 2   fnlwgt          15315 non-null  int64 \n",
      " 3   education       15315 non-null  object\n",
      " 4   education_num   15315 non-null  int64 \n",
      " 5   marital-status  15315 non-null  object\n",
      " 6   occupation      15315 non-null  object\n",
      " 7   relationship    15315 non-null  object\n",
      " 8   race            15315 non-null  object\n",
      " 9   sex             15315 non-null  object\n",
      " 10  capital-gain    15315 non-null  int64 \n",
      " 11  capital-loss    15315 non-null  int64 \n",
      " 12  hours-per-week  15315 non-null  int64 \n",
      " 13  income          15315 non-null  object\n",
      "dtypes: int64(6), object(8)\n",
      "memory usage: 1.6+ MB\n"
     ]
    }
   ],
   "source": [
    "# BEGIN SOLUTION\n",
    "train_set = pd.read_csv('income.csv')\n",
    "train_set.info()\n",
    "X_train = train_set.drop('income',axis=1)\n",
    "y_train = train_set['income']\n",
    "\n",
    "test_set = pd.read_csv('income_test.csv')\n",
    "test_set.info() \n",
    "X_test = test_set.drop('income',axis=1)\n",
    "y_test = test_set['income']\n",
    "# End CODE HERE"
   ]
  },
  {
   "cell_type": "markdown",
   "metadata": {
    "id": "Up2k55v7h8D4"
   },
   "source": [
    "**2.2** Check if there are any features with missing values in the data and report them. Check and report the numerical and categorical data, as well."
   ]
  },
  {
   "cell_type": "code",
   "execution_count": 14,
   "metadata": {
    "id": "NyiaW503h7mB",
    "colab": {
     "base_uri": "https://localhost:8080/"
    },
    "outputId": "3a5ca7f4-7764-48e5-83fb-20bc80ea991e"
   },
   "outputs": [
    {
     "output_type": "stream",
     "name": "stdout",
     "text": [
      "\n",
      "Categorical Features with Missing Values:\n",
      "workclass     1836\n",
      "occupation    1843\n",
      "dtype: int64\n",
      "Numerical Features with Missing Values:\n",
      "Series([], dtype: int64)\n"
     ]
    }
   ],
   "source": [
    "# BEGIN SOLUTION\n",
    "\n",
    "categorical_features = [X_train.columns[i] for i in range(len(X_train.columns)) \n",
    "          if  X_train.dtypes[i] == 'object']\n",
    "categorical_missing = X_train[categorical_features].isnull().sum()\n",
    "print(\"\\nCategorical Features with Missing Values:\")\n",
    "print(categorical_missing[categorical_missing > 0])\n",
    "\n",
    "numerical_features = [X_train.columns[i] for i in range(len(X_train.columns))\n",
    "                   if X_train.columns[i] not in categorical_features]\n",
    "numerical_missing = X_train[numerical_features].isnull().sum()\n",
    "print(\"Numerical Features with Missing Values:\")\n",
    "print(numerical_missing[numerical_missing > 0])\n",
    "\n",
    "# End CODE HERE"
   ]
  },
  {
   "cell_type": "markdown",
   "metadata": {
    "id": "VhHAVISNkeJF"
   },
   "source": [
    "YOUR ANSWER HERE"
   ]
  },
  {
   "cell_type": "markdown",
   "metadata": {
    "id": "akVGpGHDuav4"
   },
   "source": [
    "**2.3** Create your pipeline. An acceptable pipeline, should include both numerical and categorical handling."
   ]
  },
  {
   "cell_type": "code",
   "execution_count": 15,
   "metadata": {
    "id": "pv6z98huuZ6M",
    "colab": {
     "base_uri": "https://localhost:8080/",
     "height": 225
    },
    "outputId": "2f4c54da-41b3-4405-ba4c-4027e16907fa"
   },
   "outputs": [
    {
     "output_type": "execute_result",
     "data": {
      "text/plain": [
       "Pipeline(steps=[('preprocessor',\n",
       "                 ColumnTransformer(transformers=[('numerical',\n",
       "                                                  Pipeline(steps=[('imputer',\n",
       "                                                                   SimpleImputer(strategy='median')),\n",
       "                                                                  ('scaler',\n",
       "                                                                   StandardScaler())]),\n",
       "                                                  ['age', 'fnlwgt',\n",
       "                                                   'education_num',\n",
       "                                                   'capital-gain',\n",
       "                                                   'capital-loss',\n",
       "                                                   'hours-per-week']),\n",
       "                                                 ('categorical',\n",
       "                                                  Pipeline(steps=[('imputer',\n",
       "                                                                   SimpleImputer(strategy='most_frequent')),\n",
       "                                                                  ('encoder',\n",
       "                                                                   OrdinalEncoder())]),\n",
       "                                                  ['workclass', 'education',\n",
       "                                                   'marital-status',\n",
       "                                                   'occupation', 'relationship',\n",
       "                                                   'race', 'sex'])])),\n",
       "                ('classifier', DecisionTreeClassifier(random_state=42))])"
      ],
      "text/html": [
       "<style>#sk-container-id-1 {color: black;background-color: white;}#sk-container-id-1 pre{padding: 0;}#sk-container-id-1 div.sk-toggleable {background-color: white;}#sk-container-id-1 label.sk-toggleable__label {cursor: pointer;display: block;width: 100%;margin-bottom: 0;padding: 0.3em;box-sizing: border-box;text-align: center;}#sk-container-id-1 label.sk-toggleable__label-arrow:before {content: \"▸\";float: left;margin-right: 0.25em;color: #696969;}#sk-container-id-1 label.sk-toggleable__label-arrow:hover:before {color: black;}#sk-container-id-1 div.sk-estimator:hover label.sk-toggleable__label-arrow:before {color: black;}#sk-container-id-1 div.sk-toggleable__content {max-height: 0;max-width: 0;overflow: hidden;text-align: left;background-color: #f0f8ff;}#sk-container-id-1 div.sk-toggleable__content pre {margin: 0.2em;color: black;border-radius: 0.25em;background-color: #f0f8ff;}#sk-container-id-1 input.sk-toggleable__control:checked~div.sk-toggleable__content {max-height: 200px;max-width: 100%;overflow: auto;}#sk-container-id-1 input.sk-toggleable__control:checked~label.sk-toggleable__label-arrow:before {content: \"▾\";}#sk-container-id-1 div.sk-estimator input.sk-toggleable__control:checked~label.sk-toggleable__label {background-color: #d4ebff;}#sk-container-id-1 div.sk-label input.sk-toggleable__control:checked~label.sk-toggleable__label {background-color: #d4ebff;}#sk-container-id-1 input.sk-hidden--visually {border: 0;clip: rect(1px 1px 1px 1px);clip: rect(1px, 1px, 1px, 1px);height: 1px;margin: -1px;overflow: hidden;padding: 0;position: absolute;width: 1px;}#sk-container-id-1 div.sk-estimator {font-family: monospace;background-color: #f0f8ff;border: 1px dotted black;border-radius: 0.25em;box-sizing: border-box;margin-bottom: 0.5em;}#sk-container-id-1 div.sk-estimator:hover {background-color: #d4ebff;}#sk-container-id-1 div.sk-parallel-item::after {content: \"\";width: 100%;border-bottom: 1px solid gray;flex-grow: 1;}#sk-container-id-1 div.sk-label:hover label.sk-toggleable__label {background-color: #d4ebff;}#sk-container-id-1 div.sk-serial::before {content: \"\";position: absolute;border-left: 1px solid gray;box-sizing: border-box;top: 0;bottom: 0;left: 50%;z-index: 0;}#sk-container-id-1 div.sk-serial {display: flex;flex-direction: column;align-items: center;background-color: white;padding-right: 0.2em;padding-left: 0.2em;position: relative;}#sk-container-id-1 div.sk-item {position: relative;z-index: 1;}#sk-container-id-1 div.sk-parallel {display: flex;align-items: stretch;justify-content: center;background-color: white;position: relative;}#sk-container-id-1 div.sk-item::before, #sk-container-id-1 div.sk-parallel-item::before {content: \"\";position: absolute;border-left: 1px solid gray;box-sizing: border-box;top: 0;bottom: 0;left: 50%;z-index: -1;}#sk-container-id-1 div.sk-parallel-item {display: flex;flex-direction: column;z-index: 1;position: relative;background-color: white;}#sk-container-id-1 div.sk-parallel-item:first-child::after {align-self: flex-end;width: 50%;}#sk-container-id-1 div.sk-parallel-item:last-child::after {align-self: flex-start;width: 50%;}#sk-container-id-1 div.sk-parallel-item:only-child::after {width: 0;}#sk-container-id-1 div.sk-dashed-wrapped {border: 1px dashed gray;margin: 0 0.4em 0.5em 0.4em;box-sizing: border-box;padding-bottom: 0.4em;background-color: white;}#sk-container-id-1 div.sk-label label {font-family: monospace;font-weight: bold;display: inline-block;line-height: 1.2em;}#sk-container-id-1 div.sk-label-container {text-align: center;}#sk-container-id-1 div.sk-container {/* jupyter's `normalize.less` sets `[hidden] { display: none; }` but bootstrap.min.css set `[hidden] { display: none !important; }` so we also need the `!important` here to be able to override the default hidden behavior on the sphinx rendered scikit-learn.org. See: https://github.com/scikit-learn/scikit-learn/issues/21755 */display: inline-block !important;position: relative;}#sk-container-id-1 div.sk-text-repr-fallback {display: none;}</style><div id=\"sk-container-id-1\" class=\"sk-top-container\"><div class=\"sk-text-repr-fallback\"><pre>Pipeline(steps=[(&#x27;preprocessor&#x27;,\n",
       "                 ColumnTransformer(transformers=[(&#x27;numerical&#x27;,\n",
       "                                                  Pipeline(steps=[(&#x27;imputer&#x27;,\n",
       "                                                                   SimpleImputer(strategy=&#x27;median&#x27;)),\n",
       "                                                                  (&#x27;scaler&#x27;,\n",
       "                                                                   StandardScaler())]),\n",
       "                                                  [&#x27;age&#x27;, &#x27;fnlwgt&#x27;,\n",
       "                                                   &#x27;education_num&#x27;,\n",
       "                                                   &#x27;capital-gain&#x27;,\n",
       "                                                   &#x27;capital-loss&#x27;,\n",
       "                                                   &#x27;hours-per-week&#x27;]),\n",
       "                                                 (&#x27;categorical&#x27;,\n",
       "                                                  Pipeline(steps=[(&#x27;imputer&#x27;,\n",
       "                                                                   SimpleImputer(strategy=&#x27;most_frequent&#x27;)),\n",
       "                                                                  (&#x27;encoder&#x27;,\n",
       "                                                                   OrdinalEncoder())]),\n",
       "                                                  [&#x27;workclass&#x27;, &#x27;education&#x27;,\n",
       "                                                   &#x27;marital-status&#x27;,\n",
       "                                                   &#x27;occupation&#x27;, &#x27;relationship&#x27;,\n",
       "                                                   &#x27;race&#x27;, &#x27;sex&#x27;])])),\n",
       "                (&#x27;classifier&#x27;, DecisionTreeClassifier(random_state=42))])</pre><b>In a Jupyter environment, please rerun this cell to show the HTML representation or trust the notebook. <br />On GitHub, the HTML representation is unable to render, please try loading this page with nbviewer.org.</b></div><div class=\"sk-container\" hidden><div class=\"sk-item sk-dashed-wrapped\"><div class=\"sk-label-container\"><div class=\"sk-label sk-toggleable\"><input class=\"sk-toggleable__control sk-hidden--visually\" id=\"sk-estimator-id-1\" type=\"checkbox\" ><label for=\"sk-estimator-id-1\" class=\"sk-toggleable__label sk-toggleable__label-arrow\">Pipeline</label><div class=\"sk-toggleable__content\"><pre>Pipeline(steps=[(&#x27;preprocessor&#x27;,\n",
       "                 ColumnTransformer(transformers=[(&#x27;numerical&#x27;,\n",
       "                                                  Pipeline(steps=[(&#x27;imputer&#x27;,\n",
       "                                                                   SimpleImputer(strategy=&#x27;median&#x27;)),\n",
       "                                                                  (&#x27;scaler&#x27;,\n",
       "                                                                   StandardScaler())]),\n",
       "                                                  [&#x27;age&#x27;, &#x27;fnlwgt&#x27;,\n",
       "                                                   &#x27;education_num&#x27;,\n",
       "                                                   &#x27;capital-gain&#x27;,\n",
       "                                                   &#x27;capital-loss&#x27;,\n",
       "                                                   &#x27;hours-per-week&#x27;]),\n",
       "                                                 (&#x27;categorical&#x27;,\n",
       "                                                  Pipeline(steps=[(&#x27;imputer&#x27;,\n",
       "                                                                   SimpleImputer(strategy=&#x27;most_frequent&#x27;)),\n",
       "                                                                  (&#x27;encoder&#x27;,\n",
       "                                                                   OrdinalEncoder())]),\n",
       "                                                  [&#x27;workclass&#x27;, &#x27;education&#x27;,\n",
       "                                                   &#x27;marital-status&#x27;,\n",
       "                                                   &#x27;occupation&#x27;, &#x27;relationship&#x27;,\n",
       "                                                   &#x27;race&#x27;, &#x27;sex&#x27;])])),\n",
       "                (&#x27;classifier&#x27;, DecisionTreeClassifier(random_state=42))])</pre></div></div></div><div class=\"sk-serial\"><div class=\"sk-item sk-dashed-wrapped\"><div class=\"sk-label-container\"><div class=\"sk-label sk-toggleable\"><input class=\"sk-toggleable__control sk-hidden--visually\" id=\"sk-estimator-id-2\" type=\"checkbox\" ><label for=\"sk-estimator-id-2\" class=\"sk-toggleable__label sk-toggleable__label-arrow\">preprocessor: ColumnTransformer</label><div class=\"sk-toggleable__content\"><pre>ColumnTransformer(transformers=[(&#x27;numerical&#x27;,\n",
       "                                 Pipeline(steps=[(&#x27;imputer&#x27;,\n",
       "                                                  SimpleImputer(strategy=&#x27;median&#x27;)),\n",
       "                                                 (&#x27;scaler&#x27;, StandardScaler())]),\n",
       "                                 [&#x27;age&#x27;, &#x27;fnlwgt&#x27;, &#x27;education_num&#x27;,\n",
       "                                  &#x27;capital-gain&#x27;, &#x27;capital-loss&#x27;,\n",
       "                                  &#x27;hours-per-week&#x27;]),\n",
       "                                (&#x27;categorical&#x27;,\n",
       "                                 Pipeline(steps=[(&#x27;imputer&#x27;,\n",
       "                                                  SimpleImputer(strategy=&#x27;most_frequent&#x27;)),\n",
       "                                                 (&#x27;encoder&#x27;,\n",
       "                                                  OrdinalEncoder())]),\n",
       "                                 [&#x27;workclass&#x27;, &#x27;education&#x27;, &#x27;marital-status&#x27;,\n",
       "                                  &#x27;occupation&#x27;, &#x27;relationship&#x27;, &#x27;race&#x27;,\n",
       "                                  &#x27;sex&#x27;])])</pre></div></div></div><div class=\"sk-parallel\"><div class=\"sk-parallel-item\"><div class=\"sk-item\"><div class=\"sk-label-container\"><div class=\"sk-label sk-toggleable\"><input class=\"sk-toggleable__control sk-hidden--visually\" id=\"sk-estimator-id-3\" type=\"checkbox\" ><label for=\"sk-estimator-id-3\" class=\"sk-toggleable__label sk-toggleable__label-arrow\">numerical</label><div class=\"sk-toggleable__content\"><pre>[&#x27;age&#x27;, &#x27;fnlwgt&#x27;, &#x27;education_num&#x27;, &#x27;capital-gain&#x27;, &#x27;capital-loss&#x27;, &#x27;hours-per-week&#x27;]</pre></div></div></div><div class=\"sk-serial\"><div class=\"sk-item\"><div class=\"sk-serial\"><div class=\"sk-item\"><div class=\"sk-estimator sk-toggleable\"><input class=\"sk-toggleable__control sk-hidden--visually\" id=\"sk-estimator-id-4\" type=\"checkbox\" ><label for=\"sk-estimator-id-4\" class=\"sk-toggleable__label sk-toggleable__label-arrow\">SimpleImputer</label><div class=\"sk-toggleable__content\"><pre>SimpleImputer(strategy=&#x27;median&#x27;)</pre></div></div></div><div class=\"sk-item\"><div class=\"sk-estimator sk-toggleable\"><input class=\"sk-toggleable__control sk-hidden--visually\" id=\"sk-estimator-id-5\" type=\"checkbox\" ><label for=\"sk-estimator-id-5\" class=\"sk-toggleable__label sk-toggleable__label-arrow\">StandardScaler</label><div class=\"sk-toggleable__content\"><pre>StandardScaler()</pre></div></div></div></div></div></div></div></div><div class=\"sk-parallel-item\"><div class=\"sk-item\"><div class=\"sk-label-container\"><div class=\"sk-label sk-toggleable\"><input class=\"sk-toggleable__control sk-hidden--visually\" id=\"sk-estimator-id-6\" type=\"checkbox\" ><label for=\"sk-estimator-id-6\" class=\"sk-toggleable__label sk-toggleable__label-arrow\">categorical</label><div class=\"sk-toggleable__content\"><pre>[&#x27;workclass&#x27;, &#x27;education&#x27;, &#x27;marital-status&#x27;, &#x27;occupation&#x27;, &#x27;relationship&#x27;, &#x27;race&#x27;, &#x27;sex&#x27;]</pre></div></div></div><div class=\"sk-serial\"><div class=\"sk-item\"><div class=\"sk-serial\"><div class=\"sk-item\"><div class=\"sk-estimator sk-toggleable\"><input class=\"sk-toggleable__control sk-hidden--visually\" id=\"sk-estimator-id-7\" type=\"checkbox\" ><label for=\"sk-estimator-id-7\" class=\"sk-toggleable__label sk-toggleable__label-arrow\">SimpleImputer</label><div class=\"sk-toggleable__content\"><pre>SimpleImputer(strategy=&#x27;most_frequent&#x27;)</pre></div></div></div><div class=\"sk-item\"><div class=\"sk-estimator sk-toggleable\"><input class=\"sk-toggleable__control sk-hidden--visually\" id=\"sk-estimator-id-8\" type=\"checkbox\" ><label for=\"sk-estimator-id-8\" class=\"sk-toggleable__label sk-toggleable__label-arrow\">OrdinalEncoder</label><div class=\"sk-toggleable__content\"><pre>OrdinalEncoder()</pre></div></div></div></div></div></div></div></div></div></div><div class=\"sk-item\"><div class=\"sk-estimator sk-toggleable\"><input class=\"sk-toggleable__control sk-hidden--visually\" id=\"sk-estimator-id-9\" type=\"checkbox\" ><label for=\"sk-estimator-id-9\" class=\"sk-toggleable__label sk-toggleable__label-arrow\">DecisionTreeClassifier</label><div class=\"sk-toggleable__content\"><pre>DecisionTreeClassifier(random_state=42)</pre></div></div></div></div></div></div></div>"
      ]
     },
     "metadata": {},
     "execution_count": 15
    }
   ],
   "source": [
    "# BEGIN SOLUTION\n",
    "from sklearn.preprocessing import StandardScaler\n",
    "# your pipeline!\n",
    "# Define the preprocessing steps for numerical features\n",
    "numerical_transformer = Pipeline(steps=[\n",
    "    ('imputer', SimpleImputer(strategy='median')),\n",
    "    ('scaler', StandardScaler()),\n",
    "])\n",
    "\n",
    "# Define the preprocessing steps for categorical features\n",
    "categorical_transformer = Pipeline(steps=[\n",
    "    ('imputer', SimpleImputer(strategy='most_frequent')),\n",
    "    ('encoder', OrdinalEncoder())\n",
    "])\n",
    "\n",
    "# Combine the preprocessing steps for numerical and categorical features\n",
    "preprocessor = ColumnTransformer(\n",
    "    transformers=[\n",
    "        ('numerical', numerical_transformer, numerical_features),  # Apply the numerical preprocessing steps to numerical features\n",
    "        ('categorical', categorical_transformer, categorical_features)  # Apply the categorical preprocessing steps to categorical features\n",
    "    ])\n",
    "\n",
    "# Create the pipeline by combining the preprocessor and the decision tree classifier\n",
    "clf = Pipeline(steps=[\n",
    "    ('preprocessor', preprocessor),\n",
    "    ('classifier', DecisionTreeClassifier(random_state=RANDOM_VARIABLE))\n",
    "])\n",
    "# train the pipeline\n",
    "clf.fit(X_train, y_train)\n",
    "# End CODE HERE"
   ]
  },
  {
   "cell_type": "markdown",
   "metadata": {
    "id": "cpM9JAn-irMh"
   },
   "source": [
    "**2.4** Evaluate the pipeline's performance, without tuning!"
   ]
  },
  {
   "cell_type": "code",
   "execution_count": 37,
   "metadata": {
    "id": "3uaArYmQvKcf",
    "colab": {
     "base_uri": "https://localhost:8080/"
    },
    "outputId": "c5bceea7-1c6f-4ae3-e009-71c3d02f96de"
   },
   "outputs": [
    {
     "output_type": "stream",
     "name": "stdout",
     "text": [
      "Model score Accuracy: 0.797\n",
      "Model score F1 Weighted: 0.799\n"
     ]
    }
   ],
   "source": [
    "# BEGIN SOLUTION\n",
    "# perform the prediction to the test set\n",
    "y_predict = clf.predict(X_test)\n",
    "\n",
    "# End CODE HERE\n",
    "print(\"Model score Accuracy: %.3f\" % accuracy_score(y_test,y_predict))\n",
    "print(\"Model score F1 Weighted: %.3f\" % f1_score(y_test,y_predict,average='weighted'))"
   ]
  },
  {
   "cell_type": "markdown",
   "metadata": {
    "id": "Zz_MWnYY2r3-"
   },
   "source": [
    "**2.5** Perform a gooood grid search to find the best parameters for your pipeline. Both GridSearchCV and RandomizedSearchCV are acceptable"
   ]
  },
  {
   "cell_type": "code",
   "execution_count": 17,
   "metadata": {
    "deletable": false,
    "id": "RNECyUFtnyDf",
    "nbgrader": {
     "cell_type": "code",
     "checksum": "152ab2dd6861b198b879a78ebadc4ee4",
     "grade": true,
     "grade_id": "cell-dd950ab2eb40d8a4",
     "locked": false,
     "points": 45,
     "schema_version": 3,
     "solution": true,
     "task": false
    },
    "colab": {
     "base_uri": "https://localhost:8080/"
    },
    "outputId": "7483705e-2a6f-4ec5-86ef-df2372e8ce86"
   },
   "outputs": [
    {
     "output_type": "stream",
     "name": "stdout",
     "text": [
      "Fitting 5 folds for each of 1344 candidates, totalling 6720 fits\n",
      "Best params:\n",
      "{'classifier__criterion': 'gini', 'classifier__max_depth': 15, 'classifier__max_leaf_nodes': 38, 'classifier__min_samples_leaf': 10, 'classifier__splitter': 'best', 'preprocessor__numerical__imputer__strategy': 'mean'}\n"
     ]
    }
   ],
   "source": [
    "from sklearn.model_selection import GridSearchCV\n",
    "\n",
    "param_grid = {\n",
    "    'classifier__criterion': ['gini', 'entropy'],\n",
    "    'classifier__splitter': ['best', 'random'],\n",
    "    'classifier__max_depth': [3, 5, 7, 8, 9, 10, 15],\n",
    "    'classifier__min_samples_leaf': [5, 10, 15, 20],\n",
    "    'classifier__max_leaf_nodes': [32, 34, 36, 38],\n",
    "    'preprocessor__numerical__imputer__strategy': ['mean', 'median', 'most_frequent']\n",
    "}\n",
    "\n",
    "\n",
    "grid_search = GridSearchCV(clf, param_grid, scoring='accuracy', cv=5, n_jobs=3, verbose=2)\n",
    "grid_search.fit(X_train, y_train)\n",
    "\n",
    "print(\"Best params:\")\n",
    "print(grid_search.best_params_)"
   ]
  },
  {
   "cell_type": "markdown",
   "metadata": {
    "id": "-AJbfAjPjGQZ"
   },
   "source": [
    "**2.6** Evaluate the best model's performance."
   ]
  },
  {
   "cell_type": "code",
   "execution_count": 22,
   "metadata": {
    "id": "OhE0haFuw57D",
    "colab": {
     "base_uri": "https://localhost:8080/"
    },
    "outputId": "d3f673f6-57b7-4cf8-d93f-4dd78677a0df"
   },
   "outputs": [
    {
     "output_type": "stream",
     "name": "stdout",
     "text": [
      "Model score Accuracy: 0.854\n",
      "Model score F1 Weighted: 0.846\n"
     ]
    }
   ],
   "source": [
    "# BEGIN SOLUTION\n",
    "# perform the prediction to the test set\n",
    "y_predict =  grid_search.predict(X_test)\n",
    "# End CODE HERE\n",
    "print(\"Model score Accuracy: %.3f\" % accuracy_score(y_test,y_predict))\n",
    "print(\"Model score F1 Weighted: %.3f\" % f1_score(y_test,y_predict,average='weighted'))"
   ]
  },
  {
   "cell_type": "markdown",
   "metadata": {
    "id": "QNf3cyeNj3S1"
   },
   "source": [
    "**2.7** Evaluate your model using at least three different evaluation metrics (note1: except accuracy and weighted f1 score, note2: do not use more than once a variation of f1)."
   ]
  },
  {
   "cell_type": "code",
   "execution_count": 42,
   "metadata": {
    "id": "4jvG4qqikH9a"
   },
   "outputs": [],
   "source": [
    "# BEGIN SOLUTION\n",
    "from sklearn.metrics import precision_score,f1_score,recall_score\n",
    "\n",
    "metric1 = recall_score(y_test,y_predict,pos_label=\"<=50K\")\n",
    "metric2 = f1_score(y_test,y_predict, average=\"weighted\")\n",
    "metric3 = precision_score(y_test,y_predict,pos_label=\"<=50K\")\n",
    "\n",
    "#END CODE HERE"
   ]
  },
  {
   "cell_type": "code",
   "execution_count": 43,
   "metadata": {
    "id": "NjOJpA3cuKhm",
    "colab": {
     "base_uri": "https://localhost:8080/"
    },
    "outputId": "1323e167-7ce3-4b25-8392-affbace88ce1"
   },
   "outputs": [
    {
     "output_type": "stream",
     "name": "stdout",
     "text": [
      "Model score Metric 1: 0.857\n",
      "Model score Metric 2: 0.799\n",
      "Model score Metric 3: 0.871\n"
     ]
    }
   ],
   "source": [
    "print(\"Model score Metric 1: %.3f\" % metric1)\n",
    "print(\"Model score Metric 2: %.3f\" % metric2)\n",
    "print(\"Model score Metric 3: %.3f\" % metric3)"
   ]
  },
  {
   "cell_type": "markdown",
   "metadata": {
    "deletable": false,
    "editable": false,
    "id": "f_lIQ1-wnyDg",
    "nbgrader": {
     "cell_type": "markdown",
     "checksum": "ee9d4c2635307395bdef2efb941106ae",
     "grade": false,
     "grade_id": "cell-2c3327274958bbad",
     "locked": true,
     "schema_version": 3,
     "solution": false,
     "task": false
    }
   },
   "source": [
    "**2.8** Describe the process you followed to achieve the results above. Your description should include, but is not limited to the following \n",
    "- How do you handle missing values and why\n",
    "- How do you handle categorical variables and why\n",
    "- Any further preprocessing steps\n",
    "- How do you evaluate your model and how did you choose its parameters \n",
    "- Report any additional results and comments on your approach.\n",
    "\n",
    "You should achieve at least 85% accuracy score and 84% f1 score."
   ]
  },
  {
   "cell_type": "markdown",
   "metadata": {
    "deletable": false,
    "id": "76FF0gYVnyDh",
    "nbgrader": {
     "cell_type": "markdown",
     "checksum": "1aaf3ddda45b52c2e43089b082d030f1",
     "grade": true,
     "grade_id": "cell-80274fd09b80518c",
     "locked": false,
     "points": 20,
     "schema_version": 3,
     "solution": true,
     "task": false
    }
   },
   "source": [
    "YOUR ANSWER HERE"
   ]
  },
  {
   "cell_type": "markdown",
   "source": [
    "*   Handling missing values:\n",
    "\n",
    "Speaking for numerical features the missing values were replaced using the mean value of each feature. We managed this with the **SimpleImputer** from scikit-learn.\n",
    "For categorical features the missing values were replaced by the most frequent label. This was done using the SimpleImputer as well.\n",
    "We handled missing values to ensure that the model has complete data to learn from. In this way, we avoid discarding valuable information and improve the performance of the model.\n",
    "\n",
    "*   Handling categorical variables:\n",
    "\n",
    "The categorical variables were one-hot encoded using the **OrdinalEncoder** from scikit-learn. We did this to convert each categorical variable into multiple numerical columns, with each column representing a unique category. This transformation allows the model to effectively utilize categorical information in the dataset. Decision tree models in scikit-learn do not natively handle categorical data, so it is crucial to manage this.\n",
    "\n",
    "*   Further preprocessing steps:\n",
    "\n",
    "The numerical features were also standardized using the **StandardScaler** to have zero mean and unit variance. This step is important to ensure that features with different scales do not negatively influence the model's learning process.\n",
    "*   Evaluating the model and choosing parameters:\n",
    "\n",
    "The model was evaluated using several performance metrics such as accuracy, weighted F1 score, recall_score and precision score. These metrics provide insights into different aspects of the model's performance. Actually, we predicted the output (y_predict), compared it with y_test and find their matching. So, after using the abovementioned metrics, our model scored 0.797 on accuracy and 0.799 F1 score. \n",
    "\n",
    "Then, a grid search (GridSearchCV) was performed to find the best combination of hyperparameters for the decision tree model. The hyperparameters explored included the maximum depth of the tree, the minimum number of samples required to split a node, the maximum leaf nodes, the chosen criterion, the splitter method and the numerical imputer strategy. The best parameters were chosen based on the performance metric specified in the grid search. The accuracy with tuning was 0.854 and F1 Score with tuning was 0.846.\n",
    "\n",
    "*    Additional results and comments:\n",
    "\n",
    "The best model achieved high accuracy and F1 score on the test set compared with the not tuned one, indicating its good performance in predicting the income variable.\n",
    "\n",
    "We should note here that the preprocessing steps and parameter tuning process may vary depending on the dataset and our problem's kind. \n",
    "\n",
    "Also, this grid search we implemented here made 6720 fits, which took about 20 minutes. That is significantly slow for this dataset. Maybe, in different problems we should improve the process."
   ],
   "metadata": {
    "id": "GOlilIurDDXP"
   }
  },
  {
   "cell_type": "markdown",
   "metadata": {
    "deletable": false,
    "editable": false,
    "id": "WCN7E_ctnyDu",
    "nbgrader": {
     "cell_type": "markdown",
     "checksum": "747645b33cb4f5c14796504fac6bf3ce",
     "grade": false,
     "grade_id": "cell-89715acd6c51b332",
     "locked": true,
     "schema_version": 3,
     "solution": false,
     "task": false
    }
   },
   "source": [
    "**Bonus Question:** Did you like this assignment? Please provide your feedback."
   ]
  },
  {
   "cell_type": "markdown",
   "metadata": {
    "deletable": false,
    "id": "ZyG7hhbFnyDx",
    "nbgrader": {
     "cell_type": "markdown",
     "checksum": "b26041c1723d2858ad0833f8985801db",
     "grade": true,
     "grade_id": "cell-c99ca88f33f3717c",
     "locked": false,
     "points": 5,
     "schema_version": 3,
     "solution": true,
     "task": false
    }
   },
   "source": [
    "YOUR ANSWER HERE"
   ]
  },
  {
   "cell_type": "markdown",
   "source": [
    "I really enjoyed working on this assignment! It provided an opportunity to practice and apply our knowledge in the field of decision trees, pipelines and evaluation metrics. The step-by-step instructions were helpful (as always) in guiding me through the process and I appreciated the variety of tasks involved, such as handling missing values, categorical variables and (hyper)parameter tuning."
   ],
   "metadata": {
    "id": "VCggRr5iVEaY"
   }
  }
 ],
 "metadata": {
  "colab": {
   "provenance": []
  },
  "kernelspec": {
   "display_name": "Python 3",
   "language": "python",
   "name": "python3"
  },
  "language_info": {
   "codemirror_mode": {
    "name": "ipython",
    "version": 3
   },
   "file_extension": ".py",
   "mimetype": "text/x-python",
   "name": "python",
   "nbconvert_exporter": "python",
   "pygments_lexer": "ipython3",
   "version": "3.8.9"
  },
  "pycharm": {
   "stem_cell": {
    "cell_type": "raw",
    "metadata": {
     "collapsed": false
    },
    "source": []
   }
  },
  "vscode": {
   "interpreter": {
    "hash": "31f2aee4e71d21fbe5cf8b01ff0e069b9275f58929596ceb00d14d90e3e16cd6"
   }
  }
 },
 "nbformat": 4,
 "nbformat_minor": 0
}
